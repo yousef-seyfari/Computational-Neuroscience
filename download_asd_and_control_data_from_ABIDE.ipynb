{
 "cells": [
  {
   "cell_type": "markdown",
   "id": "97592c13",
   "metadata": {},
   "source": [
    "# Download samples from ABIDE dataset\n",
    "\n",
    "This is a sample code to download samples fMRI from ABIDE dataset. For this end, the nilearn package is used:"
   ]
  },
  {
   "cell_type": "markdown",
   "id": "92506d04",
   "metadata": {},
   "source": [
    "### 1.1 How to download\n",
    "\n",
    "The ABIDE dataset is hosted on Amazon Cloud. To download each specific sample, use the following URL template with the values for each parameter enclosed in brackets:\n",
    "\n",
    "https://s3.amazonaws.com/fcp-indi/data/Projects/ABIDE_Initiative/Outputs/[pipeline]/[strategy]/[derivative]/[file identifier]_[derivative].[ext]\n",
    "\n",
    "```\n",
    "- [pipeline] = ccs | cpac | dparsf | niak \n",
    "- [strategy] = filt_global | filt_noglobal | nofilt_global | nofilt_noglobal\n",
    "- [file identifier] = the FILE_ID value from the summary spreadsheet\n",
    "- [derivative] = alff | degree_binarize | degree_weighted | dual_regression | ...<br>\n",
    "               eigenvector_binarize | eigenvector_weighted | falff | func_mask | ...<br>\n",
    "               func_mean | func_preproc | lfcd | reho | rois_aal | rois_cc200 | ... <br>\n",
    "               rois_cc400 | rois_dosenbach160 | rois_ez | rois_ho | rois_tt | vmhc             \n",
    "- [ext] = 1D | nii.gz\n",
    "```\n",
    "\n",
    "The information about these parameters can be obtained from http://preprocessed-connectomes-project.org/abide/Pipelines.html.\n",
    "\n",
    "### 1.2.The parameters used in this code:\n",
    "```\n",
    "- pipeline = dparsf\n",
    "- strategy = filt_global\n",
    "- file identifier = the FILE_ID value from the summary spreadsheet (Phenotypic_V1_0b_preprocessed1.csv)\n",
    "- derivative = func_preproc\n",
    "- ext = nii.gz\n",
    "```\n",
    "\n",
    "### 1.3.FILE_ID\n",
    "\n",
    "For FILE_ID, two lists are created. The first list, asd_list, is for the samples with an ASD diagnosis. The second list, control_list, is for the control samples who do not have ASD and are healthy.\n",
    "\n",
    "These lists are extracted from the Phenotypic_V1_0b_preprocessed1.csv file from the ABIDE website (http://preprocessed-connectomes-project.org/abide/index.html). You can also see this file in this repository. This file contains detailed information on fMRI samples. In this file, the DX_GROUP column denotes the diagnosis status of each sample: 1 is for subjects with an ASD diagnosis and 2 is for healthy subjects. Additionally, the DSM_IV_TR column contains diagnostic information based on the DSM-IV-TR criteria. For the ASD list four samples for each DSM-IV-TR criteria 1, 2, and 3 are selected as follows:\n",
    "\n",
    "DSM-IV-TR = 1\n",
    "[NYU_0050952,\n",
    "NYU_0050954,\n",
    "NYU_0050955,\n",
    "NYU_0050956]\n",
    "\n",
    "DSM-IV-TR = 2\n",
    "[NYU_0050959,\n",
    "NYU_0050960,\n",
    "NYU_0050961,\n",
    "NYU_0050962]\n",
    "\n",
    "DSM-IV-TR = 3\n",
    "[NYU_0050965,\n",
    "NYU_0050966,\n",
    "NYU_0050967,\n",
    "NYU_0050968]\n",
    "\n",
    "For the control list, twelve samples are selected as follows: The value of DX_GROUP for these samples is 2 and the value of DSM-IV-TR is 0.\n",
    "\n",
    "[NYU_0051036,\n",
    "NYU_0051038,\n",
    "NYU_0051039,\n",
    "NYU_0051040,\n",
    "NYU_0051041,\n",
    "NYU_0051059,\n",
    "NYU_0051060,\n",
    "NYU_0051061,\n",
    "NYU_0051062,\n",
    "NYU_0051063,\n",
    "NYU_0051079,\n",
    "NYU_0051080]"
   ]
  },
  {
   "cell_type": "code",
   "execution_count": null,
   "id": "4810359f",
   "metadata": {},
   "outputs": [],
   "source": [
    "asd_list = ['NYU_0050952', 'NYU_0050954', 'NYU_0050955', 'NYU_0050956', 'NYU_0050959', 'NYU_0050960', 'NYU_0050961', 'NYU_0050962', 'NYU_0050965', 'NYU_0050966', 'NYU_0050967', 'NYU_0050968']\n",
    "control_list = ['NYU_0051036', 'NYU_0051038', 'NYU_0051039', 'NYU_0051040', 'NYU_0051041', 'NYU_0051059', 'NYU_0051060', 'NYU_0051061', 'NYU_0051062', 'NYU_0051063', 'NYU_0051079', 'NYU_0051080']"
   ]
  },
  {
   "cell_type": "markdown",
   "id": "625130bd",
   "metadata": {},
   "source": [
    "## 2. Start downloading subjects from the ASD list\n",
    "According to the mentioned information, the download URL is formed by inserting the value of each parameter into the URL. The final parameter, i.e., `FILE_ID`, will be placed in the following form and download will begin using the `_fetch_file` method from the `nilearn` package.<br>\n",
    "\n",
    "### 2.1 Path to store\n",
    "Downloaded files will be stored in the `file_path`, here `C:/neuro/asd/`. You can change this path to your desired download location"
   ]
  },
  {
   "cell_type": "code",
   "execution_count": null,
   "id": "7f1ed933",
   "metadata": {},
   "outputs": [],
   "source": [
    "from nilearn.datasets.utils import _fetch_file\n",
    "i=1\n",
    "for val in asd_list:\n",
    "    url = f\"https://s3.amazonaws.com/fcp-indi/data/Projects/ABIDE_Initiative/Outputs/dparsf/filt_global/func_preproc/{val}_func_preproc.nii.gz\"\n",
    "    file_path = f\"C:/neuro/asd/{i}__{val}__pipeline_dparsf__deriv_func_preproc__strategy_filt_global.nii.gz\"\n",
    "    _fetch_file(url, file_path)\n",
    "    i=i+1"
   ]
  },
  {
   "cell_type": "markdown",
   "id": "35b018b7",
   "metadata": {},
   "source": [
    "## 3. Start downloading subjects from the control list\n",
    "The following code downloads subjects from the control list, i.e., healthy individuals, and stores them in the `file_path`."
   ]
  },
  {
   "cell_type": "code",
   "execution_count": null,
   "id": "c175d9e5",
   "metadata": {},
   "outputs": [],
   "source": [
    "i=1\n",
    "for val in control_list:\n",
    "    url = f\"https://s3.amazonaws.com/fcp-indi/data/Projects/ABIDE_Initiative/Outputs/dparsf/filt_global/func_preproc/{val}_func_preproc.nii.gz\"\n",
    "    file_path = f\"C:/neuro/control/{i}__{val}__pipeline_dparsf__deriv_func_preproc__strategy_filt_global.nii.gz\"\n",
    "    _fetch_file(url, file_path)\n",
    "    i=i+1"
   ]
  },
  {
   "cell_type": "code",
   "execution_count": null,
   "id": "3da5cd28",
   "metadata": {},
   "outputs": [],
   "source": []
  }
 ],
 "metadata": {
  "kernelspec": {
   "display_name": "Python 3 (ipykernel)",
   "language": "python",
   "name": "python3"
  },
  "language_info": {
   "codemirror_mode": {
    "name": "ipython",
    "version": 3
   },
   "file_extension": ".py",
   "mimetype": "text/x-python",
   "name": "python",
   "nbconvert_exporter": "python",
   "pygments_lexer": "ipython3",
   "version": "3.9.16"
  }
 },
 "nbformat": 4,
 "nbformat_minor": 5
}
